{
 "cells": [
  {
   "cell_type": "markdown",
   "metadata": {},
   "source": [
    "<img src='https://encrypted-tbn0.gstatic.com/images?q=tbn%3AANd9GcQ-VfNtOyJbsaxu43Kztf_cv1mgBG6ZIQZEVw&usqp=CAU'>\n",
    "\n",
    "# Procesamiento de Lenguaje Natural\n",
    "\n",
    "## Taller #12: Análisis de sentimiento\n",
    "`Fecha de entrega: Mayo 27, 2021 (Antes del inicio de la próxima clase).`\n",
    "\n",
    "`Modo de entrega: Subir link de GitHub al aula virtual.`"
   ]
  },
  {
   "cell_type": "markdown",
   "metadata": {},
   "source": [
    "###  `[25 pts]` Punto 1: Hacer análisis de sentimiento de los datos del anterior taller\n",
    "- Columna con el puntaje numérico del sentimiento\n",
    "- Pueden usar cualquiera de las librerias vistas en clase"
   ]
  },
  {
   "cell_type": "code",
   "execution_count": 2,
   "metadata": {},
   "outputs": [],
   "source": [
    "import pandas as pd\n",
    "import tweepy\n",
    "import csv"
   ]
  },
  {
   "cell_type": "code",
   "execution_count": 6,
   "metadata": {},
   "outputs": [
    {
     "data": {
      "text/html": [
       "<div>\n",
       "<style scoped>\n",
       "    .dataframe tbody tr th:only-of-type {\n",
       "        vertical-align: middle;\n",
       "    }\n",
       "\n",
       "    .dataframe tbody tr th {\n",
       "        vertical-align: top;\n",
       "    }\n",
       "\n",
       "    .dataframe thead th {\n",
       "        text-align: right;\n",
       "    }\n",
       "</style>\n",
       "<table border=\"1\" class=\"dataframe\">\n",
       "  <thead>\n",
       "    <tr style=\"text-align: right;\">\n",
       "      <th></th>\n",
       "      <th>tweets</th>\n",
       "      <th>date</th>\n",
       "      <th>city</th>\n",
       "      <th>user_location</th>\n",
       "      <th>id</th>\n",
       "      <th>link</th>\n",
       "    </tr>\n",
       "  </thead>\n",
       "  <tbody>\n",
       "    <tr>\n",
       "      <th>0</th>\n",
       "      <td>RT @BogotaLogica: Esto está haciendo Claudia L...</td>\n",
       "      <td>2021-05-27 23:11:15</td>\n",
       "      <td>Bogotá</td>\n",
       "      <td></td>\n",
       "      <td>1398054219568058368</td>\n",
       "      <td>https://twitter.com/i/web/stuatus/139805421956...</td>\n",
       "    </tr>\n",
       "    <tr>\n",
       "      <th>1</th>\n",
       "      <td>RT @AUGUSTOOCAMPO: Ayer más de 23 mil nuevos c...</td>\n",
       "      <td>2021-05-27 23:10:09</td>\n",
       "      <td>Bogotá</td>\n",
       "      <td></td>\n",
       "      <td>1398053944232976385</td>\n",
       "      <td>https://twitter.com/i/web/stuatus/139805394423...</td>\n",
       "    </tr>\n",
       "    <tr>\n",
       "      <th>2</th>\n",
       "      <td>RT @CarrillonavasG: #MananasBLU No es lo que d...</td>\n",
       "      <td>2021-05-27 23:09:48</td>\n",
       "      <td>Bogotá</td>\n",
       "      <td></td>\n",
       "      <td>1398053857738043393</td>\n",
       "      <td>https://twitter.com/i/web/stuatus/139805385773...</td>\n",
       "    </tr>\n",
       "    <tr>\n",
       "      <th>3</th>\n",
       "      <td>RT @tatislondono: 9.700 nuevos casos de covid ...</td>\n",
       "      <td>2021-05-27 23:09:28</td>\n",
       "      <td>Bogotá</td>\n",
       "      <td>Al Farwaniyah, Kuwait</td>\n",
       "      <td>1398053772425928709</td>\n",
       "      <td>https://twitter.com/i/web/stuatus/139805377242...</td>\n",
       "    </tr>\n",
       "  </tbody>\n",
       "</table>\n",
       "</div>"
      ],
      "text/plain": [
       "                                              tweets                date  \\\n",
       "0  RT @BogotaLogica: Esto está haciendo Claudia L... 2021-05-27 23:11:15   \n",
       "1  RT @AUGUSTOOCAMPO: Ayer más de 23 mil nuevos c... 2021-05-27 23:10:09   \n",
       "2  RT @CarrillonavasG: #MananasBLU No es lo que d... 2021-05-27 23:09:48   \n",
       "3  RT @tatislondono: 9.700 nuevos casos de covid ... 2021-05-27 23:09:28   \n",
       "\n",
       "     city          user_location                   id  \\\n",
       "0  Bogotá                         1398054219568058368   \n",
       "1  Bogotá                         1398053944232976385   \n",
       "2  Bogotá                         1398053857738043393   \n",
       "3  Bogotá  Al Farwaniyah, Kuwait  1398053772425928709   \n",
       "\n",
       "                                                link  \n",
       "0  https://twitter.com/i/web/stuatus/139805421956...  \n",
       "1  https://twitter.com/i/web/stuatus/139805394423...  \n",
       "2  https://twitter.com/i/web/stuatus/139805385773...  \n",
       "3  https://twitter.com/i/web/stuatus/139805377242...  "
      ]
     },
     "execution_count": 6,
     "metadata": {},
     "output_type": "execute_result"
    }
   ],
   "source": [
    "\n",
    "keys = pd.read_csv(\"misllavesapp.csv\", header=None)\n",
    "keys = dict(zip(keys[0],keys[1]))\n",
    "keys.keys()\n",
    "# Autenticar a través de la API \n",
    "auth = tweepy.OAuthHandler(keys['api_key'], keys['api_secret_key'])\n",
    "auth.set_access_token(keys['access_token'], keys['access_token_secret'])\n",
    "api = tweepy.API(auth, wait_on_rate_limit=True)\n",
    "#Recolectar datos\n",
    "tweets = tweepy.Cursor(api.search,\n",
    "                       q=['Claudia Lopez'],\n",
    "                       lang='es',\n",
    "                       geocode='4.7110,-74.0721,100km',\n",
    "                       tweet_mode='extended',\n",
    "                       include_rts=False).items(100)\n",
    "# Objeto generador\n",
    "t = [tweet for tweet in tweets]\n",
    "t_processed = []\n",
    "\n",
    "for tweet in t: \n",
    "    temp = []\n",
    "    temp.append(tweet.full_text)\n",
    "    temp.append(tweet.created_at)\n",
    "    temp.append('Bogotá')\n",
    "    temp.append(tweet.user.location)\n",
    "    temp.append(tweet.id)\n",
    "    temp.append(f\"https://twitter.com/i/web/stuatus/{tweet.id}\")\n",
    "    \n",
    "    t_processed.append(temp)\n",
    "    \n",
    "    \n",
    "data = pd.DataFrame(t_processed)\n",
    "data.columns = ['tweets', 'date', 'city', 'user_location', 'id', 'link']\n",
    "data.head(4)"
   ]
  },
  {
   "cell_type": "code",
   "execution_count": 7,
   "metadata": {},
   "outputs": [],
   "source": [
    "import re \n",
    "\n",
    "pattern1 = '?P<pic>pic.twitter.com/[^\\s]+'\n",
    "pattern2 = '?P<url>https?://[^\\s]+'\n",
    "\n",
    "def text_clean(row):\n",
    "    text = row['tweets']\n",
    "    \n",
    "    links = [tuple(j for j in i if j)[-1] for i in re.findall(f\"({pattern1})|({pattern2})\",text)]\n",
    "    for link in links:\n",
    "        text = text.replace(link,\"\")\n",
    "    \n",
    "    hashtags = [interaction for interaction in text.split() if interaction.startswith(\"#\")]\n",
    "    for hashtag in hashtags:\n",
    "        text = text.replace(hashtag, \"\")\n",
    "        \n",
    "    mentions = [interaction for interaction in text.split() if interaction.startswith(\"@\")]\n",
    "    for mention in mentions:\n",
    "        text = text.replace(mention, \"\")\n",
    "        \n",
    "    return text, links, hashtags, mentions\n",
    "  "
   ]
  },
  {
   "cell_type": "markdown",
   "metadata": {},
   "source": [
    "###  `[10 pts]` Punto 2: ¿Cuál es el tuit más positivo y más negativo?"
   ]
  },
  {
   "cell_type": "markdown",
   "metadata": {},
   "source": [
    "###  `[10 pts]` Punto 3: ¿Cuántos tuits positivos/negativos hay en sus datos?"
   ]
  },
  {
   "cell_type": "markdown",
   "metadata": {},
   "source": [
    "###  `[5 pts]` : Punto 4: Una visualización sobre sus datos"
   ]
  }
 ],
 "metadata": {
  "kernelspec": {
   "display_name": "Python 3",
   "language": "python",
   "name": "python3"
  },
  "language_info": {
   "codemirror_mode": {
    "name": "ipython",
    "version": 3
   },
   "file_extension": ".py",
   "mimetype": "text/x-python",
   "name": "python",
   "nbconvert_exporter": "python",
   "pygments_lexer": "ipython3",
   "version": "3.8.5"
  }
 },
 "nbformat": 4,
 "nbformat_minor": 2
}
