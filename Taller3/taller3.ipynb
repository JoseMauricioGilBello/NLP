{
 "cells": [
  {
   "cell_type": "markdown",
   "metadata": {},
   "source": [
    "<img src='https://encrypted-tbn0.gstatic.com/images?q=tbn%3AANd9GcQ-VfNtOyJbsaxu43Kztf_cv1mgBG6ZIQZEVw&usqp=CAU'>\n",
    "\n",
    "# Procesamiento de Lenguage Natural\n",
    "\n",
    "## Taller #3: Web Scraping\n",
    "`Fecha de entrega: Marzo 10, 2021. (Antes del inicio de la próxima clase).`"
   ]
  },
  {
   "cell_type": "markdown",
   "metadata": {},
   "source": [
    "# Punto 1:\n",
    "\n",
    "- `[15 pts]` Hacer Web Scraping de 10 animales en Wikipedia (en búcle)\n",
    "- `[10 pts]` Obtener el **encabezado** de cada animal\n",
    "- `[15 pts]` Obtener todos los **textos** que están en las etiquetas de negrilla."
   ]
  },
  {
   "cell_type": "markdown",
   "metadata": {},
   "source": [
    "# Punto 2:\n",
    "- `[10 pts]` Usando regex, reemplazar todas las tíldes del punto anterior por un asterisco (¡Ojo, los espacios se quedan!)\n"
   ]
  },
  {
   "cell_type": "code",
   "execution_count": 1,
   "metadata": {},
   "outputs": [],
   "source": [
    "import bs4 as bs \n",
    "import urllib.request\n",
    "import re"
   ]
  },
  {
   "cell_type": "code",
   "execution_count": 2,
   "metadata": {},
   "outputs": [],
   "source": [
    "enlace = [\"https://es.wikipedia.org/wiki/Felis_silvestris_catus\"\n",
    "          ,\"https://es.wikipedia.org/wiki/Canis_familiaris\"\n",
    "          ,\"https://es.wikipedia.org/wiki/Panthera_leo\"\n",
    "          ,\"https://es.wikipedia.org/wiki/Chamaeleonidae\"\n",
    "          ,\"https://es.wikipedia.org/wiki/Canguro\"\n",
    "          ,\"https://es.wikipedia.org/wiki/Bos_primigenius_taurus\"\n",
    "          ,\"https://es.wikipedia.org/wiki/Panthera_tigris\"\n",
    "          ,\"https://es.wikipedia.org/wiki/Formicidae\"\n",
    "          ,\"https://es.wikipedia.org/wiki/Exocoetidae\"\n",
    "          ,\"https://es.wikipedia.org/wiki/Ursidae\"\n",
    "         ]"
   ]
  },
  {
   "cell_type": "code",
   "execution_count": 77,
   "metadata": {},
   "outputs": [
    {
     "name": "stdout",
     "output_type": "stream",
     "text": [
      " El encabezado del animal es: ['Felis silvestris catus'] y las palabras en negrilla son:[gato doméstico, Felis silvestris catus, gato, minino, michino, michi, micho, mizo, miz, morroño, morrongo] Cambiando caracteres especiales por asterisco para los encabezados queda: *gato dom*stico* Felis silvestris catus* gato* minino* michino* michi* micho* mizo* miz* morro*o* morrongo*\n",
      "........................................................................\n",
      " El encabezado del animal es: ['Canis familiaris'] y las palabras en negrilla son:[perro, Canis familiaris, Canis lupus familiaris, perro doméstico, can, chucho, tuso, choco] Cambiando caracteres especiales por asterisco para los encabezados queda: *perro* Canis familiaris* Canis lupus familiaris* perro dom*stico* can* chucho* tuso* choco*\n",
      "........................................................................\n",
      " El encabezado del animal es: ['Panthera leo'] y las palabras en negrilla son:[león, Panthera leo] Cambiando caracteres especiales por asterisco para los encabezados queda: *le*n* Panthera leo*\n",
      "........................................................................\n",
      " El encabezado del animal es: ['Chamaeleonidae'] y las palabras en negrilla son:[] Cambiando caracteres especiales por asterisco para los encabezados queda: **\n",
      "........................................................................\n",
      " El encabezado del animal es: ['Canguro'] y las palabras en negrilla son:[canguro, <a href=\"/wiki/Ualab%C3%AD\" title=\"Ualabí\">ualabí</a>, canguro, ualabí, <a href=\"/wiki/Ualar%C3%BA\" title=\"Ualarú\">ualarú</a>, ualabí de Parma, canguro antílope, ualarú antílope] Cambiando caracteres especiales por asterisco para los encabezados queda: *canguro* *a href***wiki*Ualab*C3*AD* title**Ualab***ualab***a** canguro* ualab** *a href***wiki*Ualar*C3*BA* title**Ualar***ualar***a** ualab* de Parma* canguro ant*lope* ualar* ant*lope*\n",
      "........................................................................\n",
      " El encabezado del animal es: ['Bos primigenius taurus'] y las palabras en negrilla son:[vaca, toro, Bos primigenius taurus] Cambiando caracteres especiales por asterisco para los encabezados queda: *vaca* toro* Bos primigenius taurus*\n",
      "........................................................................\n",
      " El encabezado del animal es: ['Panthera tigris'] y las palabras en negrilla son:[tigre, Panthera tigris] Cambiando caracteres especiales por asterisco para los encabezados queda: *tigre* Panthera tigris*\n",
      "........................................................................\n",
      " El encabezado del animal es: ['Formicidae'] y las palabras en negrilla son:[] Cambiando caracteres especiales por asterisco para los encabezados queda: **\n",
      "........................................................................\n",
      " El encabezado del animal es: ['Exocoetidae'] y las palabras en negrilla son:[] Cambiando caracteres especiales por asterisco para los encabezados queda: **\n",
      "........................................................................\n",
      " El encabezado del animal es: ['Ursidae'] y las palabras en negrilla son:[osos, úrsidos, Ursidae] Cambiando caracteres especiales por asterisco para los encabezados queda: *osos* *rsidos* Ursidae*\n",
      "........................................................................\n"
     ]
    }
   ],
   "source": [
    "for n in enlace:\n",
    "    Encabezadoanimal = []\n",
    "    #Palabrasennegrilla =[]\n",
    "    request = urllib.request.Request(n, headers={'User-Agent': 'Mozilla/5.0'})\n",
    "    webpage = urllib.request.urlopen(request)\n",
    "    source = webpage.read()\n",
    "    webpage.close()\n",
    "    soup = bs.BeautifulSoup(source, 'html.parser')\n",
    "    Animals = soup.find(\"body\").find_all(\"h1\")\n",
    "    Animals = Animals[0].text\n",
    "    Encabezadoanimal.append(Animals)\n",
    "    Negrilla = soup.find(\"body\").find(\"p\")\n",
    "    Negrilla = Negrilla.find_all(\"b\")\n",
    "    Negrilla = re.sub(r\"<b>|</b>\", \"\", str(Negrilla))\n",
    "    pattern = \"[^a-zA-Z0-9 ~]\"\n",
    "    cambio = re.sub(pattern,\"*\", str(Negrilla))\n",
    "#    Negrilla = re.split('<b>|</b>', str(Negrilla))\n",
    " #   for h in Negrilla:\n",
    "  #      if h != \" \":\n",
    "  #          Palabrasennegrilla.append(h)\n",
    "    print(f\" El encabezado del animal es: {Encabezadoanimal} y las palabras en negrilla son:{Negrilla} Cambiando caracteres especiales por asterisco para los encabezados queda: {cambio}\")\n",
    "    print(\"........................................................................\")\n"
   ]
  },
  {
   "cell_type": "code",
   "execution_count": null,
   "metadata": {},
   "outputs": [],
   "source": []
  },
  {
   "cell_type": "code",
   "execution_count": null,
   "metadata": {},
   "outputs": [],
   "source": []
  },
  {
   "cell_type": "markdown",
   "metadata": {},
   "source": []
  },
  {
   "cell_type": "code",
   "execution_count": null,
   "metadata": {},
   "outputs": [],
   "source": []
  }
 ],
 "metadata": {
  "kernelspec": {
   "display_name": "Python 3",
   "language": "python",
   "name": "python3"
  },
  "language_info": {
   "codemirror_mode": {
    "name": "ipython",
    "version": 3
   },
   "file_extension": ".py",
   "mimetype": "text/x-python",
   "name": "python",
   "nbconvert_exporter": "python",
   "pygments_lexer": "ipython3",
   "version": "3.7.6"
  }
 },
 "nbformat": 4,
 "nbformat_minor": 2
}
